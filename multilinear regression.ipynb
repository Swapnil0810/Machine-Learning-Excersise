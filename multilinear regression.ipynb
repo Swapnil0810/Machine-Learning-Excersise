{
 "cells": [
  {
   "cell_type": "code",
   "execution_count": 19,
   "id": "71b6193f",
   "metadata": {},
   "outputs": [],
   "source": [
    "class LinearRegression:\n",
    "    def enter_values():\n",
    "        in_x_value,in_x2_value,out_put=[],[],[]\n",
    "        m_weight = [0]\n",
    "        m2_weight = [0]\n",
    "        c_biases = [0]\n",
    "        final_error=[0]\n",
    "        predict=[]\n",
    "        len_in = int(input(('enter the length of x: ')))\n",
    "        len_out = int(input(('enter the length of y: ')))\n",
    "        for i in range (0, len_in):\n",
    "          elements_in= int(input('el of input  X1 '))\n",
    "          in_x_value.append(elements_in)\n",
    "          elements_in2= int(input('el of input  X2 '))\n",
    "          in_x2_value.append(elements_in2)\n",
    "        for i in range (0, len_out):\n",
    "          elements_out = int(input('el of out_put Y '))\n",
    "          out_put.append(elements_out)\n",
    "        predict.append(int(input('enter no you want to predict x1 ')))\n",
    "        predict.append(int(input('enter no you want to predict x2 ')))\n",
    "        alpha=[0.1]\n",
    "    \n",
    "        return(in_x_value,in_x2_value,out_put,m_weight,m2_weight,c_biases,final_error,alpha,predict)\n",
    "\n",
    "\n",
    "    def weights1(in_x_value,in_x2_value,out_put,m_weight,m2_weight,c_biases,alpha):\n",
    "        mold=m_weight[-1]\n",
    "        m2old=m2_weight[-1]    \n",
    "        cold=c_biases[-1]\n",
    "        mnew,cnew,m2new=0,0,0\n",
    "        for in_x,in_x2,out in zip(in_x_value,in_x2_value,out_put):  \n",
    "          yhat = mold*in_x+m2old*in_x2+cold\n",
    "          mnew = mnew+((yhat-out)*in_x)\n",
    "          m2new = m2new+((yhat-out)*in_x2)  \n",
    "          cnew = cnew+(yhat-out)\n",
    "        m_weight.append(mold-alpha[-1]*(mnew))\n",
    "        m2_weight.append(m2old-alpha[-1]*(m2new))\n",
    "        c_biases.append(cold-alpha[-1]*(cnew))\n",
    "        return m_weight,m2_weight,c_biases\n",
    "    def error1(in_x_value,in_x2_value,out_put,m_weight,m2_weight,c_biases,alpha,final_error):\n",
    "        error=0\n",
    "        for in_x,in_x2,out in zip(in_x_value,in_x2_value,out_put):\n",
    "            yhat= (m_weight[-1]*in_x)+(m2_weight[-1]*in_x2)+c_biases[-1]\n",
    "            error = (error+(out-yhat))\n",
    "        final_error.append(0.5*((error)**2))\n",
    "        return final_error\n",
    "    def predict_values(m_weight,m2_weight,c_biases,predict):\n",
    "        return(print(\"for:\",predict[0],\"prediction is\",(m_weight[-1]*predict[0])+(m2_weight[-1]*predict[1])+c_biases[-1]))\n",
    "\n",
    "    def output():\n",
    "        in_x_value,in_x2_value,out_put,m_weight,m2_weight,c_biases,final_error,alpha,predict=LinearRegression.enter_values()\n",
    "        for i in range(0,3000): \n",
    "            LinearRegression.error1(in_x_value,in_x2_value,out_put,m_weight,m2_weight,c_biases,alpha,final_error )\n",
    "            if len(final_error) > 3:\n",
    "                if final_error[-2]<final_error[-1]:\n",
    "                    alpha.append(alpha[-1]*1/10)\n",
    "                    m_weight.pop()\n",
    "                    m2_weight.pop()\n",
    "                    c_biases.pop() \n",
    "            LinearRegression.weights1(in_x_value,in_x2_value,out_put,m_weight,m2_weight,c_biases,alpha)\n",
    "        return(LinearRegression.predict_values(m_weight,m2_weight,c_biases,predict))\n"
   ]
  },
  {
   "cell_type": "code",
   "execution_count": 20,
   "id": "82a49e4a",
   "metadata": {},
   "outputs": [
    {
     "name": "stdout",
     "output_type": "stream",
     "text": [
      "enter the length of x: 4\n",
      "enter the length of y: 4\n",
      "el of input  X 1\n",
      "el of input  X2 1\n",
      "el of input  X 2\n",
      "el of input  X2 2\n",
      "el of input  X 3\n",
      "el of input  X2 3\n",
      "el of input  X 4\n",
      "el of input  X2 4\n",
      "el of out_put Y 2\n",
      "el of out_put Y 4\n",
      "el of out_put Y 6\n",
      "el of out_put Y 8\n",
      "enter no you want to predict x1 5\n",
      "enter no you want to predict x2 5\n",
      "for: 5 prediction is 9.999999998836449\n"
     ]
    }
   ],
   "source": [
    "lr=LinearRegression\n",
    "lr.output()"
   ]
  }
 ],
 "metadata": {
  "kernelspec": {
   "display_name": "Python 3 (ipykernel)",
   "language": "python",
   "name": "python3"
  },
  "language_info": {
   "codemirror_mode": {
    "name": "ipython",
    "version": 3
   },
   "file_extension": ".py",
   "mimetype": "text/x-python",
   "name": "python",
   "nbconvert_exporter": "python",
   "pygments_lexer": "ipython3",
   "version": "3.9.7"
  }
 },
 "nbformat": 4,
 "nbformat_minor": 5
}
